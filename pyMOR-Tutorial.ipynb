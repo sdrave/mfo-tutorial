{
 "metadata": {
  "name": "",
  "signature": "sha256:67abd7367b9b7aa1a5ada0886f19154f2c8cca9b75e22a8ee168ab2e5ca0ddb1"
 },
 "nbformat": 3,
 "nbformat_minor": 0,
 "worksheets": [
  {
   "cells": [
    {
     "cell_type": "heading",
     "level": 1,
     "metadata": {},
     "source": [
      "Problem Definition"
     ]
    },
    {
     "cell_type": "markdown",
     "metadata": {},
     "source": [
      "Let's put some heat on the MFO logo! In other words, we want to solve the stationary heat equation\n",
      "\n",
      "\\begin{align*}\n",
      "    - \\nabla \\cdot (a_{\\mu}(x)\\nabla u_\\mu(x)) &= 0 && x \\in [0, 1]^2 \\\\\n",
      "     a_{\\mu}(x) \\nabla u_\\mu(x) \\cdot n &= 1 && x \\in [0, 1] \\times \\{0\\} \\\\\n",
      "    u_\\mu(x) &= 0 && x \\in \\partial [0, 1]^2 \\setminus [0, 1] \\times \\{0\\}\n",
      "\\end{align*}\n",
      "\n",
      "for various parameters $\\mu = (\\mu_{bnd}, \\mu_{in}) \\in \\mathcal{P} := [1, 100]^2$. The diffusivity $a_\\mu$ is given by\n",
      "\n",
      "\\begin{equation}\n",
      "    a_{\\mu}(x) = a_{out}(x) + \\mu_{bnd}a_{bnd}(x) + \\mu_{in}a_{in}(x)\n",
      "\\end{equation}\n",
      "\n",
      "where $a_{out}(x) \\in [0, 100]$, $a_{bound}(x), a_{in}(x) \\in [0, 1]$ are defined by the following grayscale images with black indicating the lowest and white indicating the largest possible value:"
     ]
    },
    {
     "cell_type": "code",
     "collapsed": false,
     "input": [
      "from IPython.display import HTML\n",
      "HTML(\"\"\"<table><tr>\n",
      "<td><img src=\"files/mfo_outer.png\"><td><img src=\"files/mfo_boundary.png\"><td><img src=\"files/mfo_inner.png\">\n",
      "</tr></table>\"\"\")"
     ],
     "language": "python",
     "metadata": {},
     "outputs": [
      {
       "html": [
        "<table><tr>\n",
        "<td><img src=\"files/mfo_outer.png\"><td><img src=\"files/mfo_boundary.png\"><td><img src=\"files/mfo_inner.png\">\n",
        "</tr></table>"
       ],
       "metadata": {},
       "output_type": "pyout",
       "prompt_number": 1,
       "text": [
        "<IPython.core.display.HTML at 0x7f2da87acad0>"
       ]
      }
     ],
     "prompt_number": 1
    },
    {
     "cell_type": "markdown",
     "metadata": {},
     "source": [
      "---"
     ]
    },
    {
     "cell_type": "heading",
     "level": 1,
     "metadata": {},
     "source": [
      "pyMOR's discretization framework"
     ]
    },
    {
     "cell_type": "markdown",
     "metadata": {},
     "source": [
      "pyMOR comes with a built-in discretization framework to get you started quickly. In the following steps we will create a parameterized high-dimensional discretization that solves the given problem. (Since pyMOR is still a young project, it currently only offers very basic finite element and finite volumes discretizations. However, our architecture is quite flexible and it should be easy to implement higher order cg or dg schemes for small to medium-sized problems.)"
     ]
    },
    {
     "cell_type": "heading",
     "level": 2,
     "metadata": {},
     "source": [
      "1. Imports"
     ]
    },
    {
     "cell_type": "markdown",
     "metadata": {},
     "source": [
      "First, we import everything we need for discretizing the problem. As you can see, pyMOR is heavily modularized. Extensive API documentation can be found under http://pymor.readthedocs.org/latest/. (As an alternative, IPython has several features for directly viewing documentation from within the IPython console or notebook. Take a brief look at the IPython help for more information.)"
     ]
    },
    {
     "cell_type": "code",
     "collapsed": false,
     "input": [
      "import numpy as np\n",
      "\n",
      "from pymor.core.cache import clear_caches\n",
      "from pymor.core.logger import set_log_levels\n",
      "from pymor.analyticalproblems.elliptic import EllipticProblem\n",
      "from pymor.domaindescriptions.basic import RectDomain\n",
      "from pymor.domaindescriptions.boundarytypes import BoundaryType\n",
      "from pymor.discretizers.elliptic import discretize_elliptic_cg\n",
      "from pymor.playground.functions.bitmap import BitmapFunction\n",
      "from pymor.functions.basic import ConstantFunction\n",
      "from pymor.parameters.functionals import ProjectionParameterFunctional\n",
      "from pymor.parameters.spaces import CubicParameterSpace\n",
      "\n",
      "clear_caches()  # Clears all of pyMOR's active cache regions (see pymor.core.cache).\n",
      "                # This ensures that high-dimensional solutions are actually calculated\n",
      "                # and not fetched from the persistent on-disk cache from previous pyMOR\n",
      "                # sessions. (We only do this so that you can see how long solving the\n",
      "                # high-dimensional problem takes.)\n",
      "\n",
      "set_log_levels({'pymor': 'INFO'})  # Let pyMOR be very verbose about what it is doing."
     ],
     "language": "python",
     "metadata": {},
     "outputs": []
    },
    {
     "cell_type": "heading",
     "level": 2,
     "metadata": {},
     "source": [
      "2. Analytical Problem"
     ]
    },
    {
     "cell_type": "markdown",
     "metadata": {},
     "source": [
      "Next we create an analytical problem which defines the PDE we want to solve:"
     ]
    },
    {
     "cell_type": "code",
     "collapsed": false,
     "input": [
      "p = EllipticProblem(domain=RectDomain(bottom=BoundaryType('neumann')),\n",
      "                    rhs=ConstantFunction(0., dim_domain=2),\n",
      "                    diffusion_functions=[BitmapFunction('mfo_outer.png', range=[0., 100.]),\n",
      "                                         BitmapFunction('mfo_boundary.png', range=[0., 1.]),\n",
      "                                         BitmapFunction('mfo_inner.png', range=[0., 1.])],\n",
      "                    diffusion_functionals=[1.,\n",
      "                                           ProjectionParameterFunctional('boundary', tuple()),\n",
      "                                           ProjectionParameterFunctional('inner', tuple())],\n",
      "                    neumann_data=ConstantFunction(-1., dim_domain=2),\n",
      "                    parameter_space=CubicParameterSpace({'boundary': tuple(), 'inner': tuple()},\n",
      "                                                        minimum=1., maximum=100.),\n",
      "                    name='MFO_problem')"
     ],
     "language": "python",
     "metadata": {},
     "outputs": []
    },
    {
     "cell_type": "markdown",
     "metadata": {},
     "source": [
      "A function (see `pymor.functions.interfaces.FunctionInterface`) in pyMOR is a vectorized mapping from coordinates to arbitrarily shaped NumPy arrays. Parameter functionals (see `pymor.parameters.interfaces.ParameterFunctionalInterface`) map parameters to scalars.\n",
      "\n",
      "A parameter in pyMOR is a dictionary with strings as keys and NumPy arrays of a certain shape as values (e.g. `mu = {'speed': 3., 'diffusivity': np.array([[4., 1.], [1., 4.]])}`). Every object in pyMOR which depends on parameters has a so called `parameter_type` which defines which parameters (i.e. what keys with what shapes) the object requires. (The type of `mu` defined above would be `{'speed': tuple(), 'diffusivity': (2, 2)}`.)\n",
      "\n",
      "A parameter space simply is a set of parameters (of a common parameter type) from which samples can be drawn."
     ]
    },
    {
     "cell_type": "heading",
     "level": 2,
     "metadata": {},
     "source": [
      "3. Discretization"
     ]
    },
    {
     "cell_type": "markdown",
     "metadata": {},
     "source": [
      "After defining the problem, we can now *discretize* it by using one of pyMOR's discretizers. (See `pymor.discretizers`). The following will use linear finite elements on a structured triangular mesh."
     ]
    },
    {
     "cell_type": "code",
     "collapsed": false,
     "input": [
      "d, data = discretize_elliptic_cg(p, diameter=np.sqrt(2)/100)"
     ],
     "language": "python",
     "metadata": {},
     "outputs": []
    },
    {
     "cell_type": "markdown",
     "metadata": {},
     "source": [
      "This call returns the Discretization `d` (see `pymor.discretizations.interfaces.DiscretizationInterface`) along with a dictionary containing additional data resulting from the discretization process. (Currently only the grid and a BoundaryInfo object are returned. The BoundaryInfo identifies the boundary types associated with the boundary entities of the grid.)\n",
      "\n",
      "We can solve the discretization and visualize the result like so:"
     ]
    },
    {
     "cell_type": "code",
     "collapsed": false,
     "input": [
      "U = d.solve(mu=[1., 100.])\n",
      "d.visualize(U)"
     ],
     "language": "python",
     "metadata": {},
     "outputs": []
    },
    {
     "cell_type": "markdown",
     "metadata": {},
     "source": [
      "The call to `solve` returns a VectorArray (see `pymor.la.interfaces`) of length 1 (for stationary problems) containing the discrete solution vector. \n",
      "\n",
      "As you can see, pyMOR tries to be smart when parsing parameters. If all parameter components are scalars, you can simply provide a list of the values, assuming alphabetical ordering of the keys.\n",
      "\n",
      "You can also visualize multiple solutions, by passing a `tuple` of VectorArrays:"
     ]
    },
    {
     "cell_type": "code",
     "collapsed": false,
     "input": [
      "d.visualize((U, U * 2))"
     ],
     "language": "python",
     "metadata": {},
     "outputs": []
    },
    {
     "cell_type": "heading",
     "level": 2,
     "metadata": {},
     "source": [
      "4. Exercises - Part 1"
     ]
    },
    {
     "cell_type": "markdown",
     "metadata": {},
     "source": [
      "Before we go on with the model order reduction, let's play a bit with the discretization we are given:\n",
      "\n",
      "1. Try solving the discretization for different parameters and visualize the results.\n",
      "\n",
      "2. Compare two solutions by visualizing both, along with their difference. (You can simply subtract compatible VectorArrays from each other to obtain a new array containing the difference.)\n",
      "3. Create a VectorArray containing the solutions for fixed $\\mu_{bnd}=1$ and $\\mu_{in}$ taking 20 equidistant values from 1 to 100. Visualize the array to obtain an animation.\n",
      "  - Use `VectorArray.append` to append vectors from one VectorArray to another.\n",
      "  - To obtain a loop over the needed parameters use\n",
      "    ```\n",
      "    for mu_in in np.linspace(1., 100., 20):\n",
      "        ...\n",
      "    ```\n",
      "  - You can create an empty VectorArray of the correct type using `d.solution_space.empty()`.\n",
      "4. Try to apply the discrete operator (use `d.operator.apply`) for different parameters and visualize the result.\n",
      "5. Do the same for the affine components of the operator (`d.operator.operators[i]`).\n",
      "\n",
      "Enter your code in the following cell. (Add as much additional cells as you like.)"
     ]
    },
    {
     "cell_type": "code",
     "collapsed": false,
     "input": [],
     "language": "python",
     "metadata": {},
     "outputs": []
    },
    {
     "cell_type": "markdown",
     "metadata": {},
     "source": [
      "---"
     ]
    },
    {
     "cell_type": "heading",
     "level": 1,
     "metadata": {},
     "source": [
      "Model Order Reduction with pyMOR"
     ]
    },
    {
     "cell_type": "markdown",
     "metadata": {},
     "source": [
      "We are now leaving the realm of pyMOR's discretization framework. All code that follows uses completely generic algorithms which work with any Discretizations, Operators and VectorArrays that implement pyMOR's interfaces. These discretizations could live in dynamically linked C/C++ extension modules, could be read from data files on disk or could reside in a compute server controlled via a network protocol. No direct access to any high-dimensional data is required. \n",
      "\n",
      "When ready, pyMOR will also be able to automatically access discretizations which implement the OpenInterfaces specifications (http://www.openinterfaces.org)."
     ]
    },
    {
     "cell_type": "heading",
     "level": 2,
     "metadata": {},
     "source": [
      "5. More Imports"
     ]
    },
    {
     "cell_type": "markdown",
     "metadata": {},
     "source": [
      "We now import some of pyMOR's model order reduction algorithms:"
     ]
    },
    {
     "cell_type": "code",
     "collapsed": false,
     "input": [
      "from functools import partial\n",
      "\n",
      "from pymor.algorithms.greedy import greedy\n",
      "from pymor.algorithms.basisextension import gram_schmidt_basis_extension\n",
      "from pymor.parameters.functionals import ExpressionParameterFunctional\n",
      "from pymor.reductors.stationary import reduce_stationary_coercive"
     ],
     "language": "python",
     "metadata": {},
     "outputs": []
    },
    {
     "cell_type": "heading",
     "level": 2,
     "metadata": {},
     "source": [
      "6. The Reductor"
     ]
    },
    {
     "cell_type": "markdown",
     "metadata": {},
     "source": [
      "In pyMOR, discretizations are reduced using *reductors* (see `pymor.reductors`), which are given the high-dimensional discretization along with some data needed for the reduction (e.g. the reduced basis). In return, we obtain a reduced discretization and a *reconstructor* which transforms reduced solution VectorArrays into high-dimensional VectorArrays associated with the original discretization (e.g. by forming the linear combination with the reduced basis stored in the reconstructor)."
     ]
    },
    {
     "cell_type": "code",
     "collapsed": false,
     "input": [
      "reductor = partial(reduce_stationary_coercive,\n",
      "                   error_product=d.h1_product,\n",
      "                   coercivity_estimator=ExpressionParameterFunctional(\"(1 + 1/pi)*min((100, boundary, inner))\",\n",
      "                                                                      d.parameter_type))"
     ],
     "language": "python",
     "metadata": {},
     "outputs": []
    },
    {
     "cell_type": "markdown",
     "metadata": {},
     "source": [
      "The reductor `reduce_stationary_coercive` reduces the problem via a generic Galerkin RB-projection (by calling `pymor.reductors.basic.reduce_generic_rb`) and then assembles a residual based error estimator for the reduction error (using `pymor.reductors.residual.reduce_residual`). It needs to be given a `ParameterFunctional` for estimating the coercivity constant of the problem for the given parameter.\n",
      "\n",
      "The `partial` function above produces a new function `reductor` which is the same function as `reduce_stationary_coercive`, but with fixed values for the arguments `error_product` and `coercivity_estimator`.\n",
      "\n",
      "Discretizations in pyMOR are usually simply containers for Operators along with an algorithm which uses these operators to obtain a solution of the problem. As the RB-projection does not change the structure of the problem, the reductor will return a discretization of the same type (`pymor.discretizations.basic.StationaryDiscretization`), only the operators are replaced by their RB-projections."
     ]
    },
    {
     "cell_type": "heading",
     "level": 2,
     "metadata": {},
     "source": [
      "7. Basis Generation"
     ]
    },
    {
     "cell_type": "markdown",
     "metadata": {},
     "source": [
      "Next, we fire up our greedy basis generation algorithm (see `pymor.algorithms.greedy`). We will need to pass it the high-dimensional discretization, our reductor and a basis extension algorithm which is used to augment the reduced basis by the new solution snapshot (in our case the snapshot is simply added to the basis after orthonormalizing it using the Gram-Schmidt algorithm). Moreover, a training set of parameters must be supplied, which we sample uniformly from the discretization's parameter space."
     ]
    },
    {
     "cell_type": "code",
     "collapsed": false,
     "input": [
      "basis_extension = partial(gram_schmidt_basis_extension,\n",
      "                          product=d.h1_product)\n",
      "\n",
      "greedy_data = greedy(d,\n",
      "                     reductor,\n",
      "                     d.parameter_space.sample_uniformly(20),\n",
      "                     extension_algorithm=basis_extension,\n",
      "                     max_extensions=10)\n",
      "\n",
      "rd, rc = greedy_data['reduced_discretization'], greedy_data['reconstructor']"
     ],
     "language": "python",
     "metadata": {},
     "outputs": []
    },
    {
     "cell_type": "markdown",
     "metadata": {},
     "source": [
      "Let's solve the reduced discretization for some mu:"
     ]
    },
    {
     "cell_type": "code",
     "collapsed": false,
     "input": [
      "u = rd.solve(mu=[45., 20.])\n",
      "u"
     ],
     "language": "python",
     "metadata": {},
     "outputs": []
    },
    {
     "cell_type": "markdown",
     "metadata": {},
     "source": [
      "As expected, the solution vector has 10 entries, the coordinates w.r.t. the computed reduced basis. We can compare the reduced solution with the high-dimensional solution like so:"
     ]
    },
    {
     "cell_type": "code",
     "collapsed": false,
     "input": [
      "U_rb = rc.reconstruct(u)\n",
      "U = d.solve(mu=[45., 20.])\n",
      "d.visualize((U, U_rb, U-U_rb), legend=('detailed', 'reduced', 'error'),\n",
      "            separate_colorbars=True)"
     ],
     "language": "python",
     "metadata": {},
     "outputs": []
    },
    {
     "cell_type": "heading",
     "level": 2,
     "metadata": {},
     "source": [
      "8. Exercises - Part 2"
     ]
    },
    {
     "cell_type": "markdown",
     "metadata": {},
     "source": [
      "1. Take a look at the reduced basis (which can be accessed as `rc.RB`) by visualizing it.\n",
      "2. Check if the reduced basis is really orthonormal w.r.t the H1-product using `d.h1_product.apply2(rc.RB, rc.RB, pairwise=True)`.\n",
      "3. Compute the maximum reduction error on 20 randomly sampled parameters. Visualize the detailed and reduced solutions as well as their difference for the parameter maximizing the reduction error.\n",
      "   - To loop over the parameters use\n",
      "     ```\n",
      "     for mu in d.parameters_space.sample_randomly(20):\n",
      "         ...\n",
      "     ```\n",
      "     To store the parameters in a list, use:\n",
      "     ```\n",
      "     mus = list(d.parameters_space.sample_randomly(20))\n",
      "     ```\n",
      "     Note: For reproducibility reasons, `sample_randomly` will always produce the same parameters if not given a different random seed. If this is unwanted, create a new random state using `pymor.tools.random.new_radom_state` and pass the same random state to subsequent calls of `sample_randomly`.\n",
      "   - You can compute the H1- or L2-norm of a high-dimensional or reduced solution vector using `d.h1_norm`, `d.l2_norm` or `rd.h1_norm`, `rd.l2_norm`.\n",
      "4. Create a plot \"maximum reduction error vs. basis size\".\n",
      "   - Use `pymor.reductors.basic.reduce_to_subbasis` to quickly obtain reduced discretizations for smaller basis sizes.\n",
      "   - For creating the plot, we can use `matplotlib` which offers with the `pyplot` submodule plotting commands which are similar to MATLAB's plotting facilities. To embed the plots into this notebook use\n",
      "     ```\n",
      "     %matplotlib inline\n",
      "     import matplotlib.pyplot as plt\n",
      "     ```\n",
      "     Then you can use `plt.plot` or `plot.semilogy`, etc, for plotting.\n",
      "4. Compute the speedup obtained by the model reduction using `time.time` from the Python standard library. (Remember to use `clear_caches()` for a fair comparison.) You will need to form an average over a large set of parameters to obtain reliable numbers.\n",
      "5. Try to create another reduced basis using POD (see `pymor.la.pod`), passing it solution snapshots for uniformly or randomly sampled parameters. Reduce the discretization `d` with the reductor defined above.\n",
      "   - Compare the durations of the offline phases for the greedy and POD approaches.\n",
      "   - Compare the maximum reduction errors for same basis sizes and training sets in the H1 and L2 norms.\n",
      "   - Use a finer mesh for the high-dimensional discretization and repeat the experiment.\n",
      "6. Play with the analytical problem:\n",
      "   - Change boundary conditions / source term / parameter space.\n",
      "   - Experiment!"
     ]
    },
    {
     "cell_type": "code",
     "collapsed": false,
     "input": [],
     "language": "python",
     "metadata": {},
     "outputs": []
    }
   ],
   "metadata": {}
  }
 ]
}